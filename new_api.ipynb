{
 "cells": [
  {
   "cell_type": "code",
   "execution_count": 7,
   "metadata": {
    "collapsed": false
   },
   "outputs": [
    {
     "name": "stderr",
     "output_type": "stream",
     "text": [
      "WARNING: replacing module Ev3\n",
      "WARNING: Method definition parse(Type{ASCIIString}, ASCIIString) in module Ev3 at /Users/rdeits/.julia/v0.4/Ev3/src/attributes.jl:19 overwritten in module Ev3 at /Users/rdeits/.julia/v0.4/Ev3/src/attributes.jl:19.\n",
      "WARNING: Method definition parse(Type{Array{ASCIIString, 1}}, ASCIIString) in module Ev3 at /Users/rdeits/.julia/v0.4/Ev3/src/attributes.jl:20 overwritten in module Ev3 at /Users/rdeits/.julia/v0.4/Ev3/src/attributes.jl:20.\n",
      "WARNING: replacing module StateMachineIterators\n",
      "WARNING: replacing module MappingRobots\n"
     ]
    },
    {
     "data": {
      "text/plain": [
       "0-element Array{Any,1}"
      ]
     },
     "execution_count": 7,
     "metadata": {},
     "output_type": "execute_result"
    }
   ],
   "source": [
    "import MappingRobots\n",
    "import Ev3\n",
    "import StateMachineIterators\n",
    "reload(\"Ev3\")\n",
    "reload(\"StateMachineIterators\")\n",
    "reload(\"MappingRobots\")"
   ]
  },
  {
   "cell_type": "code",
   "execution_count": 8,
   "metadata": {
    "collapsed": false
   },
   "outputs": [
    {
     "data": {
      "text/plain": [
       "MappingRobots.Robot(MappingRobots.RobotConfig(Ev3.Brick(\"/Users/rdeits/6.338/julia-mindstorms-mapping/brick\"),0.18897600000000003,MappingRobots.Sides{ASCIIString}(\"outD\",\"outB\"),4.5,AffineTransforms.AffineTransform{Float64,2}:\n",
       "matrix: 2x2 Array{Float64,2}:\n",
       " 1.0  0.0\n",
       " 0.0  1.0\n",
       "translation: [0.0508,0.0]\n",
       "),MappingRobots.Sides{Ev3.Device{Ev3.TachoMotor,Ev3.Driver{:lego_ev3_l_motor}}}(Ev3.Device{Ev3.TachoMotor,Ev3.Driver{:lego_ev3_l_motor}}(Ev3.TachoMotor(Ev3.Attribute{ASCIIString,true,false}(:address,IOStream(<file /Users/rdeits/6.338/julia-mindstorms-mapping/brick/sys/class/tacho-motor/motor1/address>)),Ev3.Attribute{Array{ASCIIString,1},true,false}(:commands,IOStream(<file /Users/rdeits/6.338/julia-mindstorms-mapping/brick/sys/class/tacho-motor/motor1/commands>)),Ev3.Attribute{ASCIIString,true,false}(:driver_name,IOStream(<file /Users/rdeits/6.338/julia-mindstorms-mapping/brick/sys/class/tacho-motor/motor1/driver_name>)),Ev3.Attribute{ASCIIString,false,true}(:command,IOStream(<file /Users/rdeits/6.338/julia-mindstorms-mapping/brick/sys/class/tacho-motor/motor1/command>)),Ev3.Attribute{Int64,true,false}(:count_per_rot,IOStream(<file /Users/rdeits/6.338/julia-mindstorms-mapping/brick/sys/class/tacho-motor/motor1/count_per_rot>)),Ev3.Attribute{Int64,true,false}(:duty_cycle,IOStream(<file /Users/rdeits/6.338/julia-mindstorms-mapping/brick/sys/class/tacho-motor/motor1/duty_cycle>)),Ev3.Attribute{Int64,true,true}(:duty_cycle_sp,IOStream(<file /Users/rdeits/6.338/julia-mindstorms-mapping/brick/sys/class/tacho-motor/motor1/duty_cycle_sp>)),Ev3.Attribute{Int64,true,true}(:speed_sp,IOStream(<file /Users/rdeits/6.338/julia-mindstorms-mapping/brick/sys/class/tacho-motor/motor1/speed_sp>)),Ev3.Attribute{Int64,true,true}(:position_sp,IOStream(<file /Users/rdeits/6.338/julia-mindstorms-mapping/brick/sys/class/tacho-motor/motor1/position_sp>)),Ev3.Attribute{Int64,true,false}(:position,IOStream(<file /Users/rdeits/6.338/julia-mindstorms-mapping/brick/sys/class/tacho-motor/motor1/position>)),Ev3.Attribute{ASCIIString,true,true}(:polarity,IOStream(<file /Users/rdeits/6.338/julia-mindstorms-mapping/brick/sys/class/tacho-motor/motor1/polarity>)),Ev3.Attribute{ASCIIString,true,true}(:stop_action,IOStream(<file /Users/rdeits/6.338/julia-mindstorms-mapping/brick/sys/class/tacho-motor/motor1/stop_action>)),Ev3.Attribute{Array{ASCIIString,1},true,false}(:stop_actions,IOStream(<file /Users/rdeits/6.338/julia-mindstorms-mapping/brick/sys/class/tacho-motor/motor1/stop_actions>))),Set(ASCIIString[\"run-timed\",\"stop\",\"run-direct\",\"run-to-rel-pos\",\"reset\",\"run-forever\",\"run-to-abs-pos\"])),Ev3.Device{Ev3.TachoMotor,Ev3.Driver{:lego_ev3_l_motor}}(Ev3.TachoMotor(Ev3.Attribute{ASCIIString,true,false}(:address,IOStream(<file /Users/rdeits/6.338/julia-mindstorms-mapping/brick/sys/class/tacho-motor/motor2/address>)),Ev3.Attribute{Array{ASCIIString,1},true,false}(:commands,IOStream(<file /Users/rdeits/6.338/julia-mindstorms-mapping/brick/sys/class/tacho-motor/motor2/commands>)),Ev3.Attribute{ASCIIString,true,false}(:driver_name,IOStream(<file /Users/rdeits/6.338/julia-mindstorms-mapping/brick/sys/class/tacho-motor/motor2/driver_name>)),Ev3.Attribute{ASCIIString,false,true}(:command,IOStream(<file /Users/rdeits/6.338/julia-mindstorms-mapping/brick/sys/class/tacho-motor/motor2/command>)),Ev3.Attribute{Int64,true,false}(:count_per_rot,IOStream(<file /Users/rdeits/6.338/julia-mindstorms-mapping/brick/sys/class/tacho-motor/motor2/count_per_rot>)),Ev3.Attribute{Int64,true,false}(:duty_cycle,IOStream(<file /Users/rdeits/6.338/julia-mindstorms-mapping/brick/sys/class/tacho-motor/motor2/duty_cycle>)),Ev3.Attribute{Int64,true,true}(:duty_cycle_sp,IOStream(<file /Users/rdeits/6.338/julia-mindstorms-mapping/brick/sys/class/tacho-motor/motor2/duty_cycle_sp>)),Ev3.Attribute{Int64,true,true}(:speed_sp,IOStream(<file /Users/rdeits/6.338/julia-mindstorms-mapping/brick/sys/class/tacho-motor/motor2/speed_sp>)),Ev3.Attribute{Int64,true,true}(:position_sp,IOStream(<file /Users/rdeits/6.338/julia-mindstorms-mapping/brick/sys/class/tacho-motor/motor2/position_sp>)),Ev3.Attribute{Int64,true,false}(:position,IOStream(<file /Users/rdeits/6.338/julia-mindstorms-mapping/brick/sys/class/tacho-motor/motor2/position>)),Ev3.Attribute{ASCIIString,true,true}(:polarity,IOStream(<file /Users/rdeits/6.338/julia-mindstorms-mapping/brick/sys/class/tacho-motor/motor2/polarity>)),Ev3.Attribute{ASCIIString,true,true}(:stop_action,IOStream(<file /Users/rdeits/6.338/julia-mindstorms-mapping/brick/sys/class/tacho-motor/motor2/stop_action>)),Ev3.Attribute{Array{ASCIIString,1},true,false}(:stop_actions,IOStream(<file /Users/rdeits/6.338/julia-mindstorms-mapping/brick/sys/class/tacho-motor/motor2/stop_actions>))),Set(ASCIIString[\"run-timed\",\"stop\",\"run-direct\",\"run-to-rel-pos\",\"reset\",\"run-forever\",\"run-to-abs-pos\"]))),Ev3.Device{Ev3.TachoMotor,Ev3.Driver{:lego_ev3_m_motor}}(Ev3.TachoMotor(Ev3.Attribute{ASCIIString,true,false}(:address,IOStream(<file /Users/rdeits/6.338/julia-mindstorms-mapping/brick/sys/class/tacho-motor/motor0/address>)),Ev3.Attribute{Array{ASCIIString,1},true,false}(:commands,IOStream(<file /Users/rdeits/6.338/julia-mindstorms-mapping/brick/sys/class/tacho-motor/motor0/commands>)),Ev3.Attribute{ASCIIString,true,false}(:driver_name,IOStream(<file /Users/rdeits/6.338/julia-mindstorms-mapping/brick/sys/class/tacho-motor/motor0/driver_name>)),Ev3.Attribute{ASCIIString,false,true}(:command,IOStream(<file /Users/rdeits/6.338/julia-mindstorms-mapping/brick/sys/class/tacho-motor/motor0/command>)),Ev3.Attribute{Int64,true,false}(:count_per_rot,IOStream(<file /Users/rdeits/6.338/julia-mindstorms-mapping/brick/sys/class/tacho-motor/motor0/count_per_rot>)),Ev3.Attribute{Int64,true,false}(:duty_cycle,IOStream(<file /Users/rdeits/6.338/julia-mindstorms-mapping/brick/sys/class/tacho-motor/motor0/duty_cycle>)),Ev3.Attribute{Int64,true,true}(:duty_cycle_sp,IOStream(<file /Users/rdeits/6.338/julia-mindstorms-mapping/brick/sys/class/tacho-motor/motor0/duty_cycle_sp>)),Ev3.Attribute{Int64,true,true}(:speed_sp,IOStream(<file /Users/rdeits/6.338/julia-mindstorms-mapping/brick/sys/class/tacho-motor/motor0/speed_sp>)),Ev3.Attribute{Int64,true,true}(:position_sp,IOStream(<file /Users/rdeits/6.338/julia-mindstorms-mapping/brick/sys/class/tacho-motor/motor0/position_sp>)),Ev3.Attribute{Int64,true,false}(:position,IOStream(<file /Users/rdeits/6.338/julia-mindstorms-mapping/brick/sys/class/tacho-motor/motor0/position>)),Ev3.Attribute{ASCIIString,true,true}(:polarity,IOStream(<file /Users/rdeits/6.338/julia-mindstorms-mapping/brick/sys/class/tacho-motor/motor0/polarity>)),Ev3.Attribute{ASCIIString,true,true}(:stop_action,IOStream(<file /Users/rdeits/6.338/julia-mindstorms-mapping/brick/sys/class/tacho-motor/motor0/stop_action>)),Ev3.Attribute{Array{ASCIIString,1},true,false}(:stop_actions,IOStream(<file /Users/rdeits/6.338/julia-mindstorms-mapping/brick/sys/class/tacho-motor/motor0/stop_actions>))),Set(ASCIIString[\"run-timed\",\"stop\",\"run-direct\",\"run-to-rel-pos\",\"reset\",\"run-forever\",\"run-to-abs-pos\"])),MappingRobots.MappingSensors(Ev3.Device{Ev3.LegoSensor,Ev3.Driver{:lego_ev3_gyro}}(Ev3.LegoSensor(Ev3.Attribute{ASCIIString,true,false}(:address,IOStream(<file /Users/rdeits/6.338/julia-mindstorms-mapping/brick/sys/class/lego-sensor/sensor1/address>)),Ev3.Attribute{Array{ASCIIString,1},true,false}(:commands,IOStream(<file /Users/rdeits/6.338/julia-mindstorms-mapping/brick/sys/class/lego-sensor/sensor1/commands>)),Ev3.Attribute{ASCIIString,true,false}(:driver_name,IOStream(<file /Users/rdeits/6.338/julia-mindstorms-mapping/brick/sys/class/lego-sensor/sensor1/driver_name>)),Ev3.Attribute{ASCIIString,false,true}(:command,IOStream(<file /Users/rdeits/6.338/julia-mindstorms-mapping/brick/sys/class/lego-sensor/sensor1/command>)),Ev3.Attribute{Int64,true,false}(:value0,IOStream(<file /Users/rdeits/6.338/julia-mindstorms-mapping/brick/sys/class/lego-sensor/sensor1/value0>)),Ev3.Attribute{Int64,true,false}(:value1,IOStream(<file /Users/rdeits/6.338/julia-mindstorms-mapping/brick/sys/class/lego-sensor/sensor1/value1>)),Ev3.Attribute{Int64,true,false}(:value2,IOStream(<file /Users/rdeits/6.338/julia-mindstorms-mapping/brick/sys/class/lego-sensor/sensor1/value2>)),Ev3.Attribute{Int64,true,false}(:value3,IOStream(<file /Users/rdeits/6.338/julia-mindstorms-mapping/brick/sys/class/lego-sensor/sensor1/value3>)),Ev3.Attribute{Int64,true,false}(:value4,IOStream(<file /Users/rdeits/6.338/julia-mindstorms-mapping/brick/sys/class/lego-sensor/sensor1/value4>)),Ev3.Attribute{Int64,true,false}(:value5,IOStream(<file /Users/rdeits/6.338/julia-mindstorms-mapping/brick/sys/class/lego-sensor/sensor1/value5>)),Ev3.Attribute{Int64,true,false}(:value6,IOStream(<file /Users/rdeits/6.338/julia-mindstorms-mapping/brick/sys/class/lego-sensor/sensor1/value6>)),Ev3.Attribute{Int64,true,false}(:value7,IOStream(<file /Users/rdeits/6.338/julia-mindstorms-mapping/brick/sys/class/lego-sensor/sensor1/value7>)),Ev3.Attribute{Int64,true,false}(:num_values,IOStream(<file /Users/rdeits/6.338/julia-mindstorms-mapping/brick/sys/class/lego-sensor/sensor1/num_values>)),Ev3.Attribute{Int64,true,false}(:decimals,IOStream(<file /Users/rdeits/6.338/julia-mindstorms-mapping/brick/sys/class/lego-sensor/sensor1/decimals>)),Ev3.Attribute{Array{ASCIIString,1},true,false}(:modes,IOStream(<file /Users/rdeits/6.338/julia-mindstorms-mapping/brick/sys/class/lego-sensor/sensor1/modes>)),Ev3.Attribute{ASCIIString,true,true}(:mode,IOStream(<file /Users/rdeits/6.338/julia-mindstorms-mapping/brick/sys/class/lego-sensor/sensor1/mode>)),Ev3.Attribute{ASCIIString,true,false}(:bin_data,IOStream(<file /Users/rdeits/6.338/julia-mindstorms-mapping/brick/sys/class/lego-sensor/sensor1/bin_data>)),Ev3.Attribute{ASCIIString,true,false}(:bin_data_format,IOStream(<file /Users/rdeits/6.338/julia-mindstorms-mapping/brick/sys/class/lego-sensor/sensor1/bin_data_format>)),Ev3.Attribute{Int64,true,true}(:poll_ms,IOStream(<file /Users/rdeits/6.338/julia-mindstorms-mapping/brick/sys/class/lego-sensor/sensor1/poll_ms>))),Set{ASCIIString}()),Ev3.Device{Ev3.LegoSensor,Ev3.Driver{:lego_ev3_us}}(Ev3.LegoSensor(Ev3.Attribute{ASCIIString,true,false}(:address,IOStream(<file /Users/rdeits/6.338/julia-mindstorms-mapping/brick/sys/class/lego-sensor/sensor0/address>)),Ev3.Attribute{Array{ASCIIString,1},true,false}(:commands,IOStream(<file /Users/rdeits/6.338/julia-mindstorms-mapping/brick/sys/class/lego-sensor/sensor0/commands>)),Ev3.Attribute{ASCIIString,true,false}(:driver_name,IOStream(<file /Users/rdeits/6.338/julia-mindstorms-mapping/brick/sys/class/lego-sensor/sensor0/driver_name>)),Ev3.Attribute{ASCIIString,false,true}(:command,IOStream(<file /Users/rdeits/6.338/julia-mindstorms-mapping/brick/sys/class/lego-sensor/sensor0/command>)),Ev3.Attribute{Int64,true,false}(:value0,IOStream(<file /Users/rdeits/6.338/julia-mindstorms-mapping/brick/sys/class/lego-sensor/sensor0/value0>)),Ev3.Attribute{Int64,true,false}(:value1,IOStream(<file /Users/rdeits/6.338/julia-mindstorms-mapping/brick/sys/class/lego-sensor/sensor0/value1>)),Ev3.Attribute{Int64,true,false}(:value2,IOStream(<file /Users/rdeits/6.338/julia-mindstorms-mapping/brick/sys/class/lego-sensor/sensor0/value2>)),Ev3.Attribute{Int64,true,false}(:value3,IOStream(<file /Users/rdeits/6.338/julia-mindstorms-mapping/brick/sys/class/lego-sensor/sensor0/value3>)),Ev3.Attribute{Int64,true,false}(:value4,IOStream(<file /Users/rdeits/6.338/julia-mindstorms-mapping/brick/sys/class/lego-sensor/sensor0/value4>)),Ev3.Attribute{Int64,true,false}(:value5,IOStream(<file /Users/rdeits/6.338/julia-mindstorms-mapping/brick/sys/class/lego-sensor/sensor0/value5>)),Ev3.Attribute{Int64,true,false}(:value6,IOStream(<file /Users/rdeits/6.338/julia-mindstorms-mapping/brick/sys/class/lego-sensor/sensor0/value6>)),Ev3.Attribute{Int64,true,false}(:value7,IOStream(<file /Users/rdeits/6.338/julia-mindstorms-mapping/brick/sys/class/lego-sensor/sensor0/value7>)),Ev3.Attribute{Int64,true,false}(:num_values,IOStream(<file /Users/rdeits/6.338/julia-mindstorms-mapping/brick/sys/class/lego-sensor/sensor0/num_values>)),Ev3.Attribute{Int64,true,false}(:decimals,IOStream(<file /Users/rdeits/6.338/julia-mindstorms-mapping/brick/sys/class/lego-sensor/sensor0/decimals>)),Ev3.Attribute{Array{ASCIIString,1},true,false}(:modes,IOStream(<file /Users/rdeits/6.338/julia-mindstorms-mapping/brick/sys/class/lego-sensor/sensor0/modes>)),Ev3.Attribute{ASCIIString,true,true}(:mode,IOStream(<file /Users/rdeits/6.338/julia-mindstorms-mapping/brick/sys/class/lego-sensor/sensor0/mode>)),Ev3.Attribute{ASCIIString,true,false}(:bin_data,IOStream(<file /Users/rdeits/6.338/julia-mindstorms-mapping/brick/sys/class/lego-sensor/sensor0/bin_data>)),Ev3.Attribute{ASCIIString,true,false}(:bin_data_format,IOStream(<file /Users/rdeits/6.338/julia-mindstorms-mapping/brick/sys/class/lego-sensor/sensor0/bin_data_format>)),Ev3.Attribute{Int64,true,true}(:poll_ms,IOStream(<file /Users/rdeits/6.338/julia-mindstorms-mapping/brick/sys/class/lego-sensor/sensor0/poll_ms>))),Set{ASCIIString}()),MappingRobots.Sides{MappingRobots.Odometer}(MappingRobots.Odometer(Ev3.Device{Ev3.TachoMotor,Ev3.Driver{:lego_ev3_l_motor}}(Ev3.TachoMotor(Ev3.Attribute{ASCIIString,true,false}(:address,IOStream(<file /Users/rdeits/6.338/julia-mindstorms-mapping/brick/sys/class/tacho-motor/motor1/address>)),Ev3.Attribute{Array{ASCIIString,1},true,false}(:commands,IOStream(<file /Users/rdeits/6.338/julia-mindstorms-mapping/brick/sys/class/tacho-motor/motor1/commands>)),Ev3.Attribute{ASCIIString,true,false}(:driver_name,IOStream(<file /Users/rdeits/6.338/julia-mindstorms-mapping/brick/sys/class/tacho-motor/motor1/driver_name>)),Ev3.Attribute{ASCIIString,false,true}(:command,IOStream(<file /Users/rdeits/6.338/julia-mindstorms-mapping/brick/sys/class/tacho-motor/motor1/command>)),Ev3.Attribute{Int64,true,false}(:count_per_rot,IOStream(<file /Users/rdeits/6.338/julia-mindstorms-mapping/brick/sys/class/tacho-motor/motor1/count_per_rot>)),Ev3.Attribute{Int64,true,false}(:duty_cycle,IOStream(<file /Users/rdeits/6.338/julia-mindstorms-mapping/brick/sys/class/tacho-motor/motor1/duty_cycle>)),Ev3.Attribute{Int64,true,true}(:duty_cycle_sp,IOStream(<file /Users/rdeits/6.338/julia-mindstorms-mapping/brick/sys/class/tacho-motor/motor1/duty_cycle_sp>)),Ev3.Attribute{Int64,true,true}(:speed_sp,IOStream(<file /Users/rdeits/6.338/julia-mindstorms-mapping/brick/sys/class/tacho-motor/motor1/speed_sp>)),Ev3.Attribute{Int64,true,true}(:position_sp,IOStream(<file /Users/rdeits/6.338/julia-mindstorms-mapping/brick/sys/class/tacho-motor/motor1/position_sp>)),Ev3.Attribute{Int64,true,false}(:position,IOStream(<file /Users/rdeits/6.338/julia-mindstorms-mapping/brick/sys/class/tacho-motor/motor1/position>)),Ev3.Attribute{ASCIIString,true,true}(:polarity,IOStream(<file /Users/rdeits/6.338/julia-mindstorms-mapping/brick/sys/class/tacho-motor/motor1/polarity>)),Ev3.Attribute{ASCIIString,true,true}(:stop_action,IOStream(<file /Users/rdeits/6.338/julia-mindstorms-mapping/brick/sys/class/tacho-motor/motor1/stop_action>)),Ev3.Attribute{Array{ASCIIString,1},true,false}(:stop_actions,IOStream(<file /Users/rdeits/6.338/julia-mindstorms-mapping/brick/sys/class/tacho-motor/motor1/stop_actions>))),Set(ASCIIString[\"run-timed\",\"stop\",\"run-direct\",\"run-to-rel-pos\",\"reset\",\"run-forever\",\"run-to-abs-pos\"])),360,0.0005249333333333334,0,0.0),MappingRobots.Odometer(Ev3.Device{Ev3.TachoMotor,Ev3.Driver{:lego_ev3_l_motor}}(Ev3.TachoMotor(Ev3.Attribute{ASCIIString,true,false}(:address,IOStream(<file /Users/rdeits/6.338/julia-mindstorms-mapping/brick/sys/class/tacho-motor/motor2/address>)),Ev3.Attribute{Array{ASCIIString,1},true,false}(:commands,IOStream(<file /Users/rdeits/6.338/julia-mindstorms-mapping/brick/sys/class/tacho-motor/motor2/commands>)),Ev3.Attribute{ASCIIString,true,false}(:driver_name,IOStream(<file /Users/rdeits/6.338/julia-mindstorms-mapping/brick/sys/class/tacho-motor/motor2/driver_name>)),Ev3.Attribute{ASCIIString,false,true}(:command,IOStream(<file /Users/rdeits/6.338/julia-mindstorms-mapping/brick/sys/class/tacho-motor/motor2/command>)),Ev3.Attribute{Int64,true,false}(:count_per_rot,IOStream(<file /Users/rdeits/6.338/julia-mindstorms-mapping/brick/sys/class/tacho-motor/motor2/count_per_rot>)),Ev3.Attribute{Int64,true,false}(:duty_cycle,IOStream(<file /Users/rdeits/6.338/julia-mindstorms-mapping/brick/sys/class/tacho-motor/motor2/duty_cycle>)),Ev3.Attribute{Int64,true,true}(:duty_cycle_sp,IOStream(<file /Users/rdeits/6.338/julia-mindstorms-mapping/brick/sys/class/tacho-motor/motor2/duty_cycle_sp>)),Ev3.Attribute{Int64,true,true}(:speed_sp,IOStream(<file /Users/rdeits/6.338/julia-mindstorms-mapping/brick/sys/class/tacho-motor/motor2/speed_sp>)),Ev3.Attribute{Int64,true,true}(:position_sp,IOStream(<file /Users/rdeits/6.338/julia-mindstorms-mapping/brick/sys/class/tacho-motor/motor2/position_sp>)),Ev3.Attribute{Int64,true,false}(:position,IOStream(<file /Users/rdeits/6.338/julia-mindstorms-mapping/brick/sys/class/tacho-motor/motor2/position>)),Ev3.Attribute{ASCIIString,true,true}(:polarity,IOStream(<file /Users/rdeits/6.338/julia-mindstorms-mapping/brick/sys/class/tacho-motor/motor2/polarity>)),Ev3.Attribute{ASCIIString,true,true}(:stop_action,IOStream(<file /Users/rdeits/6.338/julia-mindstorms-mapping/brick/sys/class/tacho-motor/motor2/stop_action>)),Ev3.Attribute{Array{ASCIIString,1},true,false}(:stop_actions,IOStream(<file /Users/rdeits/6.338/julia-mindstorms-mapping/brick/sys/class/tacho-motor/motor2/stop_actions>))),Set(ASCIIString[\"run-timed\",\"stop\",\"run-direct\",\"run-to-rel-pos\",\"reset\",\"run-forever\",\"run-to-abs-pos\"])),360,0.0005249333333333334,0,0.0))))"
      ]
     },
     "execution_count": 8,
     "metadata": {},
     "output_type": "execute_result"
    }
   ],
   "source": [
    "robot = MappingRobots.Robot(Ev3.Brick(\"/Users/rdeits/6.338/julia-mindstorms-mapping/brick\"))"
   ]
  },
  {
   "cell_type": "code",
   "execution_count": 9,
   "metadata": {
    "collapsed": false
   },
   "outputs": [
    {
     "ename": "LoadError",
     "evalue": "LoadError: SystemError: flush: Input/output error\nwhile loading In[9], in expression starting on line 1",
     "output_type": "error",
     "traceback": [
      "LoadError: SystemError: flush: Input/output error\nwhile loading In[9], in expression starting on line 1",
      "",
      " in flush at /Applications/Julia-0.4.5.app/Contents/Resources/julia/lib/julia/sys.dylib",
      " in command at /Users/rdeits/.julia/v0.4/Ev3/src/higher_level_commands.jl:1",
      " in stop at /Users/rdeits/.julia/v0.4/Ev3/src/higher_level_commands.jl:26",
      " in stop at /Users/rdeits/.julia/v0.4/Ev3/src/higher_level_commands.jl:25",
      " in map at abstractarray.jl:1170",
      " in run_mapping at /Users/rdeits/6.338/julia-mindstorms-mapping/MappingRobots.jl/src/MappingRobots.jl:208"
     ]
    }
   ],
   "source": [
    "local_map = MappingRobots.run_mapping(robot)"
   ]
  },
  {
   "cell_type": "code",
   "execution_count": 10,
   "metadata": {
    "collapsed": false
   },
   "outputs": [
    {
     "ename": "LoadError",
     "evalue": "LoadError: SystemError: flush: Input/output error\nwhile loading In[10], in expression starting on line 1",
     "output_type": "error",
     "traceback": [
      "LoadError: SystemError: flush: Input/output error\nwhile loading In[10], in expression starting on line 1",
      "",
      " in flush at /Applications/Julia-0.4.5.app/Contents/Resources/julia/lib/julia/sys.dylib",
      " in command at /Users/rdeits/.julia/v0.4/Ev3/src/higher_level_commands.jl:1",
      " in run at /Users/rdeits/.julia/v0.4/Ev3/src/higher_level_commands.jl:15"
     ]
    }
   ],
   "source": [
    "Ev3.run(robot.motors.right, 100)"
   ]
  },
  {
   "cell_type": "code",
   "execution_count": 6,
   "metadata": {
    "collapsed": false
   },
   "outputs": [
    {
     "data": {
      "text/plain": [
       "Set(ASCIIString[\"run-timed\",\"stop\",\"run-direct\",\"run-to-rel-pos\",\"reset\",\"run-forever\",\"run-to-abs-pos\"])"
      ]
     },
     "execution_count": 6,
     "metadata": {},
     "output_type": "execute_result"
    }
   ],
   "source": [
    "robot.motors.right.commands"
   ]
  },
  {
   "cell_type": "code",
   "execution_count": 5,
   "metadata": {
    "collapsed": false
   },
   "outputs": [
    {
     "ename": "LoadError",
     "evalue": "LoadError: SystemError: flush: Input/output error\nwhile loading In[5], in expression starting on line 1",
     "output_type": "error",
     "traceback": [
      "LoadError: SystemError: flush: Input/output error\nwhile loading In[5], in expression starting on line 1",
      "",
      " in flush at /Applications/Julia-0.4.5.app/Contents/Resources/julia/lib/julia/sys.dylib",
      " in command at /Users/rdeits/.julia/v0.4/Ev3/src/higher_level_commands.jl:1",
      " in stop at /Users/rdeits/.julia/v0.4/Ev3/src/higher_level_commands.jl:26",
      " in stop at /Users/rdeits/.julia/v0.4/Ev3/src/higher_level_commands.jl:25"
     ]
    }
   ],
   "source": [
    "Ev3.stop(robot.motors.right)"
   ]
  },
  {
   "cell_type": "code",
   "execution_count": null,
   "metadata": {
    "collapsed": true
   },
   "outputs": [],
   "source": []
  }
 ],
 "metadata": {
  "kernelspec": {
   "display_name": "Julia 0.4.5",
   "language": "julia",
   "name": "julia-0.4"
  },
  "language_info": {
   "file_extension": ".jl",
   "mimetype": "application/julia",
   "name": "julia",
   "version": "0.4.5"
  }
 },
 "nbformat": 4,
 "nbformat_minor": 0
}
