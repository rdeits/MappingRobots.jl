{
 "cells": [
  {
   "cell_type": "code",
   "execution_count": 4,
   "metadata": {
    "collapsed": false,
    "scrolled": false
   },
   "outputs": [
    {
     "name": "stderr",
     "output_type": "stream",
     "text": [
      "WARNING: Method definition remotecall_fetch(Function, Main.Base.LocalProcess, Any...) in module Compat at /Users/rdeits/.julia/Compat/src/Compat.jl:697 overwritten in module Compat at /Users/rdeits/.julia/Compat/src/Compat.jl:697.\n",
      "WARNING: Method definition remotecall_fetch(Function, Main.Base.Worker, Any...) in module Compat at /Users/rdeits/.julia/Compat/src/Compat.jl:698 overwritten in module Compat at /Users/rdeits/.julia/Compat/src/Compat.jl:698.\n",
      "WARNING: Method definition remotecall_fetch(Function, Integer, Any...) in module Compat at /Users/rdeits/.julia/Compat/src/Compat.jl:699 overwritten in module Compat at /Users/rdeits/.julia/Compat/src/Compat.jl:699.\n",
      "WARNING: Method definition remotecall(Function, Main.Base.LocalProcess, Any...) in module Compat at /Users/rdeits/.julia/Compat/src/Compat.jl:697 overwritten in module Compat at /Users/rdeits/.julia/Compat/src/Compat.jl:697.\n",
      "WARNING: Method definition remotecall(Function, Main.Base.Worker, Any...) in module Compat at /Users/rdeits/.julia/Compat/src/Compat.jl:698 overwritten in module Compat at /Users/rdeits/.julia/Compat/src/Compat.jl:698.\n",
      "WARNING: Method definition remotecall(Function, Integer, Any...) in module Compat at /Users/rdeits/.julia/Compat/src/Compat.jl:699 overwritten in module Compat at /Users/rdeits/.julia/Compat/src/Compat.jl:699.\n",
      "WARNING: Method definition remotecall_wait(Function, Main.Base.LocalProcess, Any...) in module Compat at /Users/rdeits/.julia/Compat/src/Compat.jl:697 overwritten in module Compat at /Users/rdeits/.julia/Compat/src/Compat.jl:697.\n",
      "WARNING: Method definition remotecall_wait(Function, Main.Base.Worker, Any...) in module Compat at /Users/rdeits/.julia/Compat/src/Compat.jl:698 overwritten in module Compat at /Users/rdeits/.julia/Compat/src/Compat.jl:698.\n",
      "WARNING: Method definition remotecall_wait(Function, Integer, Any...) in module Compat at /Users/rdeits/.julia/Compat/src/Compat.jl:699 overwritten in module Compat at /Users/rdeits/.julia/Compat/src/Compat.jl:699.\n",
      "WARNING: Method definition remote_do(Function, Main.Base.LocalProcess, Any...) in module Compat at /Users/rdeits/.julia/Compat/src/Compat.jl:697 overwritten in module Compat at /Users/rdeits/.julia/Compat/src/Compat.jl:697.\n",
      "WARNING: Method definition remote_do(Function, Main.Base.Worker, Any...) in module Compat at /Users/rdeits/.julia/Compat/src/Compat.jl:698 overwritten in module Compat at /Users/rdeits/.julia/Compat/src/Compat.jl:698.\n",
      "WARNING: Method definition remote_do(Function, Integer, Any...) in module Compat at /Users/rdeits/.julia/Compat/src/Compat.jl:699 overwritten in module Compat at /Users/rdeits/.julia/Compat/src/Compat.jl:699.\n",
      "WARNING: replacing module Behaviors\n",
      "WARNING: Method definition macroexpand(Module, Any) in module MacroTools at /Users/rdeits/.julia/MacroTools/src/utils.jl:51 overwritten in module MacroTools at /Users/rdeits/.julia/MacroTools/src/utils.jl:51.\n",
      "WARNING: ignoring conflicting import of MacroTools.MacroTools into Base\n",
      "WARNING: ignoring conflicting import of Requires.Requires into Base\n"
     ]
    }
   ],
   "source": [
    "workspace()\n",
    "reload(\"Ev3\")\n",
    "reload(\"Behaviors\")\n",
    "reload(\"MappingRobots\")\n",
    "using MappingRobots\n",
    "using AffineTransforms\n",
    "using PyPlot"
   ]
  },
  {
   "cell_type": "code",
   "execution_count": 5,
   "metadata": {
    "collapsed": false
   },
   "outputs": [
    {
     "data": {
      "text/plain": [
       "MappingRobots.Robot(MappingRobots.RobotConfig(\"192.168.1.17\",0.18897600000000003,\"in4\",\"in1\",MappingRobots.Sides{ASCIIString}(\"outD\",\"outB\"),\"outA\",4.5,AffineTransforms.AffineTransform{Float64,2}:\n",
       "matrix: 2x2 Array{Float64,2}:\n",
       " 1.0  0.0\n",
       " 0.0  1.0\n",
       "translation: [0.0508,0.0]\n",
       "),MappingRobots.Sides{Ev3.Motor}(Ev3.Motor(Ev3.RemoteNode(\"/sys/class/tacho-motor/motor2\",\"192.168.1.17\",ZMQ.Socket(Ptr{Void} @0x00007fc26bf43400,Base._FDWatcher(Ptr{Void} @0x00007fc26fc97a90,(1,0),Condition(Any[]),(false,false)))),Set(SubString{ASCIIString}[\"run-timed\",\"stop\",\"run-direct\",\"run-to-rel-pos\",\"reset\",\"run-forever\",\"run-to-abs-pos\"])),Ev3.Motor(Ev3.RemoteNode(\"/sys/class/tacho-motor/motor1\",\"192.168.1.17\",ZMQ.Socket(Ptr{Void} @0x00007fc27041fe00,Base._FDWatcher(Ptr{Void} @0x00007fc26fb93080,(1,0),Condition(Any[]),(false,false)))),Set(SubString{ASCIIString}[\"run-timed\",\"stop\",\"run-direct\",\"run-to-rel-pos\",\"reset\",\"run-forever\",\"run-to-abs-pos\"]))),Ev3.Motor(Ev3.RemoteNode(\"/sys/class/tacho-motor/motor3\",\"192.168.1.17\",ZMQ.Socket(Ptr{Void} @0x00007fc2713eee00,Base._FDWatcher(Ptr{Void} @0x00007fc26f842d90,(1,0),Condition(Any[]),(false,false)))),Set(SubString{ASCIIString}[\"run-timed\",\"stop\",\"run-direct\",\"run-to-rel-pos\",\"reset\",\"run-forever\",\"run-to-abs-pos\"])),MappingRobots.MappingSensors(Ev3.Sensor(Ev3.RemoteNode(\"/sys/class/lego-sensor/sensor1\",\"192.168.1.17\",ZMQ.Socket(Ptr{Void} @0x00007fc27142c600,Base._FDWatcher(Ptr{Void} @0x00007fc26f83e450,(1,0),Condition(Any[]),(false,false))))),Ev3.Sensor(Ev3.RemoteNode(\"/sys/class/lego-sensor/sensor0\",\"192.168.1.17\",ZMQ.Socket(Ptr{Void} @0x00007fc272794a00,Base._FDWatcher(Ptr{Void} @0x00007fc26fd7c7d0,(1,0),Condition(Any[]),(false,false))))),MappingRobots.Sides{MappingRobots.Odometer}(MappingRobots.Odometer(Ev3.Motor(Ev3.RemoteNode(\"/sys/class/tacho-motor/motor2\",\"192.168.1.17\",ZMQ.Socket(Ptr{Void} @0x00007fc26bf43400,Base._FDWatcher(Ptr{Void} @0x00007fc26fc97a90,(1,0),Condition(Any[]),(false,false)))),Set(SubString{ASCIIString}[\"run-timed\",\"stop\",\"run-direct\",\"run-to-rel-pos\",\"reset\",\"run-forever\",\"run-to-abs-pos\"])),360,0.0005249333333333334,8,0.0),MappingRobots.Odometer(Ev3.Motor(Ev3.RemoteNode(\"/sys/class/tacho-motor/motor1\",\"192.168.1.17\",ZMQ.Socket(Ptr{Void} @0x00007fc27041fe00,Base._FDWatcher(Ptr{Void} @0x00007fc26fb93080,(1,0),Condition(Any[]),(false,false)))),Set(SubString{ASCIIString}[\"run-timed\",\"stop\",\"run-direct\",\"run-to-rel-pos\",\"reset\",\"run-forever\",\"run-to-abs-pos\"])),360,0.0005249333333333334,12,0.0))))"
      ]
     },
     "execution_count": 5,
     "metadata": {},
     "output_type": "execute_result"
    }
   ],
   "source": [
    "robot = construct_remote_robot(\"192.168.1.17\")"
   ]
  },
  {
   "cell_type": "code",
   "execution_count": 6,
   "metadata": {
    "collapsed": false
   },
   "outputs": [],
   "source": [
    "m = run_mapping(robot, timeout=5)\n",
    "nothing"
   ]
  },
  {
   "cell_type": "code",
   "execution_count": 9,
   "metadata": {
    "collapsed": false,
    "scrolled": false
   },
   "outputs": [
    {
     "data": {
      "image/png": "[encoded data removed]",
      "text/plain": [
       "PyPlot.Figure(PyObject <matplotlib.figure.Figure object at 0x3198314d0>)"
      ]
     },
     "metadata": {},
     "output_type": "display_data"
    },
    {
     "data": {
      "text/plain": [
       "(0.0,0.9,-0.6000000000000001,0.29999999999999993)"
      ]
     },
     "execution_count": 9,
     "metadata": {},
     "output_type": "execute_result"
    }
   ],
   "source": [
    "plot([x[1] for x in m.points], [x[2] for x in m.points], \"ro\")\n",
    "hold(true)\n",
    "plot([x.offset[1] for x in m.path], [x.offset[2] for x in m.path], \"g.-\")\n",
    "axis(\"equal\")"
   ]
  },
  {
   "cell_type": "code",
   "execution_count": null,
   "metadata": {
    "collapsed": true
   },
   "outputs": [],
   "source": []
  }
 ],
 "metadata": {
  "kernelspec": {
   "display_name": "Julia 0.4.1",
   "language": "julia",
   "name": "julia-0.4"
  },
  "language_info": {
   "file_extension": ".jl",
   "mimetype": "application/julia",
   "name": "julia",
   "version": "0.4.1"
  }
 },
 "nbformat": 4,
 "nbformat_minor": 0
}
